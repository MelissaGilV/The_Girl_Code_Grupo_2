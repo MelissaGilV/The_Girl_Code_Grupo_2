{
 "cells": [
  {
   "cell_type": "code",
   "execution_count": 39,
   "metadata": {},
   "outputs": [],
   "source": [
    "import pandas as pd\n",
    "import numpy as np"
   ]
  },
  {
   "cell_type": "markdown",
   "metadata": {},
   "source": [
    "1. generar una base de datos de una empresa con comentarios por redes sociales\n",
    "$$$$\n",
    "2. traer base de datos y clasificarla en comentarios por servicio al cliente y comentarios por producto\n",
    "$$$$\n",
    "3.con las clasificaciones anteriores, clasificarlas por puntuaciones o estrellas \n",
    "$$$$\n"
   ]
  },
  {
   "cell_type": "code",
   "execution_count": 61,
   "metadata": {},
   "outputs": [
    {
     "data": {
      "text/html": [
       "<div>\n",
       "<style scoped>\n",
       "    .dataframe tbody tr th:only-of-type {\n",
       "        vertical-align: middle;\n",
       "    }\n",
       "\n",
       "    .dataframe tbody tr th {\n",
       "        vertical-align: top;\n",
       "    }\n",
       "\n",
       "    .dataframe thead th {\n",
       "        text-align: right;\n",
       "    }\n",
       "</style>\n",
       "<table border=\"1\" class=\"dataframe\">\n",
       "  <thead>\n",
       "    <tr style=\"text-align: right;\">\n",
       "      <th></th>\n",
       "      <th>date</th>\n",
       "      <th>tweet</th>\n",
       "    </tr>\n",
       "  </thead>\n",
       "  <tbody>\n",
       "    <tr>\n",
       "      <th>0</th>\n",
       "      <td>2021-07-25 03:51:44</td>\n",
       "      <td>b'RT @FiscalizacionAN: El legislador @VillaFer...</td>\n",
       "    </tr>\n",
       "    <tr>\n",
       "      <th>1</th>\n",
       "      <td>2021-07-25 03:50:45</td>\n",
       "      <td>b'RT @FiscalizacionAN: El legislador @VillaFer...</td>\n",
       "    </tr>\n",
       "    <tr>\n",
       "      <th>2</th>\n",
       "      <td>2021-07-25 03:44:36</td>\n",
       "      <td>b'RT @FiscalizacionAN: El legislador @VillaFer...</td>\n",
       "    </tr>\n",
       "    <tr>\n",
       "      <th>3</th>\n",
       "      <td>2021-07-25 03:41:28</td>\n",
       "      <td>b'RT @FiscalizacionAN: El legislador @VillaFer...</td>\n",
       "    </tr>\n",
       "    <tr>\n",
       "      <th>4</th>\n",
       "      <td>2021-07-25 03:39:39</td>\n",
       "      <td>b'RT @FiscalizacionAN: El legislador @VillaFer...</td>\n",
       "    </tr>\n",
       "  </tbody>\n",
       "</table>\n",
       "</div>"
      ],
      "text/plain": [
       "                  date                                              tweet\n",
       "0  2021-07-25 03:51:44  b'RT @FiscalizacionAN: El legislador @VillaFer...\n",
       "1  2021-07-25 03:50:45  b'RT @FiscalizacionAN: El legislador @VillaFer...\n",
       "2  2021-07-25 03:44:36  b'RT @FiscalizacionAN: El legislador @VillaFer...\n",
       "3  2021-07-25 03:41:28  b'RT @FiscalizacionAN: El legislador @VillaFer...\n",
       "4  2021-07-25 03:39:39  b'RT @FiscalizacionAN: El legislador @VillaFer..."
      ]
     },
     "execution_count": 61,
     "metadata": {},
     "output_type": "execute_result"
    }
   ],
   "source": [
    "#leemos datos\n",
    "datos=pd.read_csv(\"Claro.csv\")\n",
    "datos.head()"
   ]
  },
  {
   "cell_type": "code",
   "execution_count": 62,
   "metadata": {
    "scrolled": true
   },
   "outputs": [
    {
     "data": {
      "text/html": [
       "<div>\n",
       "<style scoped>\n",
       "    .dataframe tbody tr th:only-of-type {\n",
       "        vertical-align: middle;\n",
       "    }\n",
       "\n",
       "    .dataframe tbody tr th {\n",
       "        vertical-align: top;\n",
       "    }\n",
       "\n",
       "    .dataframe thead th {\n",
       "        text-align: right;\n",
       "    }\n",
       "</style>\n",
       "<table border=\"1\" class=\"dataframe\">\n",
       "  <thead>\n",
       "    <tr style=\"text-align: right;\">\n",
       "      <th></th>\n",
       "      <th>date</th>\n",
       "      <th>tweet</th>\n",
       "    </tr>\n",
       "  </thead>\n",
       "  <tbody>\n",
       "    <tr>\n",
       "      <th>0</th>\n",
       "      <td>2021-07-25 03:51:44</td>\n",
       "      <td>b'RT @FiscalizacionAN: El legislador @VillaFer...</td>\n",
       "    </tr>\n",
       "    <tr>\n",
       "      <th>1</th>\n",
       "      <td>2021-07-25 03:50:45</td>\n",
       "      <td>b'RT @FiscalizacionAN: El legislador @VillaFer...</td>\n",
       "    </tr>\n",
       "    <tr>\n",
       "      <th>2</th>\n",
       "      <td>2021-07-25 03:44:36</td>\n",
       "      <td>b'RT @FiscalizacionAN: El legislador @VillaFer...</td>\n",
       "    </tr>\n",
       "    <tr>\n",
       "      <th>3</th>\n",
       "      <td>2021-07-25 03:41:28</td>\n",
       "      <td>b'RT @FiscalizacionAN: El legislador @VillaFer...</td>\n",
       "    </tr>\n",
       "    <tr>\n",
       "      <th>4</th>\n",
       "      <td>2021-07-25 03:39:39</td>\n",
       "      <td>b'RT @FiscalizacionAN: El legislador @VillaFer...</td>\n",
       "    </tr>\n",
       "    <tr>\n",
       "      <th>...</th>\n",
       "      <td>...</td>\n",
       "      <td>...</td>\n",
       "    </tr>\n",
       "    <tr>\n",
       "      <th>617</th>\n",
       "      <td>2021-07-16 22:35:29</td>\n",
       "      <td>b'RT @luiscarrillo66: #RT en Espa\\xc3\\xb1ol ah...</td>\n",
       "    </tr>\n",
       "    <tr>\n",
       "      <th>618</th>\n",
       "      <td>2021-07-16 22:34:08</td>\n",
       "      <td>b'#claro jaja https://t.co/d8sEZLcAp8'</td>\n",
       "    </tr>\n",
       "    <tr>\n",
       "      <th>619</th>\n",
       "      <td>2021-07-16 22:26:00</td>\n",
       "      <td>b'#RT en Espa\\xc3\\xb1ol ahora disponible en #C...</td>\n",
       "    </tr>\n",
       "    <tr>\n",
       "      <th>620</th>\n",
       "      <td>2021-07-16 22:18:05</td>\n",
       "      <td>b'RT @infoecuador4: Aprovecha estos cursos tot...</td>\n",
       "    </tr>\n",
       "    <tr>\n",
       "      <th>621</th>\n",
       "      <td>date</td>\n",
       "      <td>tweet</td>\n",
       "    </tr>\n",
       "  </tbody>\n",
       "</table>\n",
       "<p>621 rows × 2 columns</p>\n",
       "</div>"
      ],
      "text/plain": [
       "                    date                                              tweet\n",
       "0    2021-07-25 03:51:44  b'RT @FiscalizacionAN: El legislador @VillaFer...\n",
       "1    2021-07-25 03:50:45  b'RT @FiscalizacionAN: El legislador @VillaFer...\n",
       "2    2021-07-25 03:44:36  b'RT @FiscalizacionAN: El legislador @VillaFer...\n",
       "3    2021-07-25 03:41:28  b'RT @FiscalizacionAN: El legislador @VillaFer...\n",
       "4    2021-07-25 03:39:39  b'RT @FiscalizacionAN: El legislador @VillaFer...\n",
       "..                   ...                                                ...\n",
       "617  2021-07-16 22:35:29  b'RT @luiscarrillo66: #RT en Espa\\xc3\\xb1ol ah...\n",
       "618  2021-07-16 22:34:08             b'#claro jaja https://t.co/d8sEZLcAp8'\n",
       "619  2021-07-16 22:26:00  b'#RT en Espa\\xc3\\xb1ol ahora disponible en #C...\n",
       "620  2021-07-16 22:18:05  b'RT @infoecuador4: Aprovecha estos cursos tot...\n",
       "621                 date                                              tweet\n",
       "\n",
       "[621 rows x 2 columns]"
      ]
     },
     "execution_count": 62,
     "metadata": {},
     "output_type": "execute_result"
    }
   ],
   "source": [
    "#borramos datos duplicados\n",
    "datosmod=datos.drop_duplicates()\n",
    "datosmod"
   ]
  },
  {
   "cell_type": "code",
   "execution_count": 63,
   "metadata": {},
   "outputs": [],
   "source": [
    "#palabras que se pueden excluir de los comentarios\n",
    "exclude_words = ['el', 'la', 'los','lo', 'las', 'un', 'una', 'unos', 'unas', 'al', 'del', 'lo', 'le', 'y', 'A','E','I','O','U','e', 'o', 'u', 'de', 'a', 'en', 'que', 'es', 'por', 'para', 'con', 'se', 'su', 'les', 'me', 'q', 'te', 'pero', 'mi', 'ya', 'cuando', 'como', 'estoy', 'voy', 'porque', 'he', 'son', 'solo', 'tengo', 'muy','\\\\','ha','#Movistar','Me']"
   ]
  },
  {
   "cell_type": "code",
   "execution_count": 64,
   "metadata": {},
   "outputs": [],
   "source": [
    "#funcion para filtrar datos por palabras\n",
    "def mod_datos(data,filtro):\n",
    "    N=len(data)\n",
    "    datos_filtrados=[]\n",
    "    for i in range(N):\n",
    "        a=data.iloc[i,1]\n",
    "        a=a.split()\n",
    "        a.pop(0)\n",
    "        n=len(a)\n",
    "        b=[]\n",
    "        for i in range(n):\n",
    "            for j in range(len(filtro)):\n",
    "                if a[i]==filtro[j]:\n",
    "                    a[i]='0'\n",
    "            if a[i]!='0':\n",
    "                b.append(a[i])\n",
    "\n",
    "        datos_filtrados.append(b)\n",
    "    return datos_filtrados"
   ]
  },
  {
   "cell_type": "code",
   "execution_count": 65,
   "metadata": {},
   "outputs": [],
   "source": [
    "sin_art=mod_datos(datosmod,exclude_words) #comentarios reducidos(sin articulos)"
   ]
  },
  {
   "cell_type": "code",
   "execution_count": 66,
   "metadata": {},
   "outputs": [
    {
     "name": "stderr",
     "output_type": "stream",
     "text": [
      "<ipython-input-66-98bcffb8c6f8>:2: SettingWithCopyWarning: \n",
      "A value is trying to be set on a copy of a slice from a DataFrame.\n",
      "Try using .loc[row_indexer,col_indexer] = value instead\n",
      "\n",
      "See the caveats in the documentation: https://pandas.pydata.org/pandas-docs/stable/user_guide/indexing.html#returning-a-view-versus-a-copy\n",
      "  datosmod[\"sin_art\"]=sin_art\n"
     ]
    },
    {
     "data": {
      "text/html": [
       "<div>\n",
       "<style scoped>\n",
       "    .dataframe tbody tr th:only-of-type {\n",
       "        vertical-align: middle;\n",
       "    }\n",
       "\n",
       "    .dataframe tbody tr th {\n",
       "        vertical-align: top;\n",
       "    }\n",
       "\n",
       "    .dataframe thead th {\n",
       "        text-align: right;\n",
       "    }\n",
       "</style>\n",
       "<table border=\"1\" class=\"dataframe\">\n",
       "  <thead>\n",
       "    <tr style=\"text-align: right;\">\n",
       "      <th></th>\n",
       "      <th>date</th>\n",
       "      <th>tweet</th>\n",
       "      <th>sin_art</th>\n",
       "    </tr>\n",
       "  </thead>\n",
       "  <tbody>\n",
       "    <tr>\n",
       "      <th>0</th>\n",
       "      <td>2021-07-25 03:51:44</td>\n",
       "      <td>b'RT @FiscalizacionAN: El legislador @VillaFer...</td>\n",
       "      <td>[@FiscalizacionAN:, El, legislador, @VillaFern...</td>\n",
       "    </tr>\n",
       "    <tr>\n",
       "      <th>1</th>\n",
       "      <td>2021-07-25 03:50:45</td>\n",
       "      <td>b'RT @FiscalizacionAN: El legislador @VillaFer...</td>\n",
       "      <td>[@FiscalizacionAN:, El, legislador, @VillaFern...</td>\n",
       "    </tr>\n",
       "    <tr>\n",
       "      <th>2</th>\n",
       "      <td>2021-07-25 03:44:36</td>\n",
       "      <td>b'RT @FiscalizacionAN: El legislador @VillaFer...</td>\n",
       "      <td>[@FiscalizacionAN:, El, legislador, @VillaFern...</td>\n",
       "    </tr>\n",
       "    <tr>\n",
       "      <th>3</th>\n",
       "      <td>2021-07-25 03:41:28</td>\n",
       "      <td>b'RT @FiscalizacionAN: El legislador @VillaFer...</td>\n",
       "      <td>[@FiscalizacionAN:, El, legislador, @VillaFern...</td>\n",
       "    </tr>\n",
       "    <tr>\n",
       "      <th>4</th>\n",
       "      <td>2021-07-25 03:39:39</td>\n",
       "      <td>b'RT @FiscalizacionAN: El legislador @VillaFer...</td>\n",
       "      <td>[@FiscalizacionAN:, El, legislador, @VillaFern...</td>\n",
       "    </tr>\n",
       "  </tbody>\n",
       "</table>\n",
       "</div>"
      ],
      "text/plain": [
       "                  date                                              tweet  \\\n",
       "0  2021-07-25 03:51:44  b'RT @FiscalizacionAN: El legislador @VillaFer...   \n",
       "1  2021-07-25 03:50:45  b'RT @FiscalizacionAN: El legislador @VillaFer...   \n",
       "2  2021-07-25 03:44:36  b'RT @FiscalizacionAN: El legislador @VillaFer...   \n",
       "3  2021-07-25 03:41:28  b'RT @FiscalizacionAN: El legislador @VillaFer...   \n",
       "4  2021-07-25 03:39:39  b'RT @FiscalizacionAN: El legislador @VillaFer...   \n",
       "\n",
       "                                             sin_art  \n",
       "0  [@FiscalizacionAN:, El, legislador, @VillaFern...  \n",
       "1  [@FiscalizacionAN:, El, legislador, @VillaFern...  \n",
       "2  [@FiscalizacionAN:, El, legislador, @VillaFern...  \n",
       "3  [@FiscalizacionAN:, El, legislador, @VillaFern...  \n",
       "4  [@FiscalizacionAN:, El, legislador, @VillaFern...  "
      ]
     },
     "execution_count": 66,
     "metadata": {},
     "output_type": "execute_result"
    }
   ],
   "source": [
    "#agrego una nueva columna con los nuevos comentarios sin articulos\n",
    "datosmod[\"sin_art\"]=sin_art\n",
    "datosmod.head()"
   ]
  },
  {
   "cell_type": "code",
   "execution_count": 67,
   "metadata": {},
   "outputs": [],
   "source": [
    "#lista de palabras que tienen referencia a comentarios sobre atencion al cliente y comentarios sobre el producto \n",
    "#que la empresa ofrece\n",
    "atn_clnt=np.array(pd.read_csv(\"AtencionCliente.txt\",sep=',',header=None))\n",
    "Producto=np.array(pd.read_csv(\"Servicios.txt\",sep=',',header=None))"
   ]
  },
  {
   "cell_type": "code",
   "execution_count": null,
   "metadata": {},
   "outputs": [],
   "source": []
  },
  {
   "cell_type": "code",
   "execution_count": 68,
   "metadata": {},
   "outputs": [
    {
     "data": {
      "text/plain": [
       "array([['factura', 'beneficio', 'atencion', 'duda', 'comentario',\n",
       "        'pregunta', 'cliente', 'llamada', 'compra', 'online', 'terminos',\n",
       "        'condiciones', 'familia', 'estrato', 'linea', 'venta', 'tecnico',\n",
       "        'renovar', 'equipo', 'pagar', 'tiempo', 'entrega', 'necesidad',\n",
       "        'requerimiento', 'recibo', 'pago', 'devolucion', 'interes',\n",
       "        'inquietud', 'linea', 'consulta', 'soporte', 'solucion',\n",
       "        'soluciones', 'acciones', 'cuenta', 'registro', 'contacto',\n",
       "        'contactar']], dtype=object)"
      ]
     },
     "execution_count": 68,
     "metadata": {},
     "output_type": "execute_result"
    }
   ],
   "source": [
    "atn_clnt"
   ]
  },
  {
   "cell_type": "code",
   "execution_count": 69,
   "metadata": {},
   "outputs": [
    {
     "data": {
      "text/plain": [
       "array([['sim', 'simcard', 'internet', 'limitados', 'ilimitados',\n",
       "        'celular', 'plan', 'prepago', 'postpago', 'planes', 'gigas',\n",
       "        'instagram', 'facebook', 'twitter', 'apps', 'aplicaciones',\n",
       "        'gratis', 'precio', 'descuento', 'fibra', 'costo', 'oferta',\n",
       "        'cobertura', 'megas', 'telefonia', 'minutos', 'velocidad',\n",
       "        'estable', 'tecnologia', 'multipantalla', 'pantalla',\n",
       "        'smartphone', 'individual', 'compartido', 'red', 'datos',\n",
       "        'cloud', 'nube', 'portabilidad', 'hogar', 'duos', 'peliculas',\n",
       "        'novelas', 'series', 'canal', 'entretenimiento', 'television',\n",
       "        'play', 'tablet', 'simetricas', 'samrt', 'wifi', 'dispositivo',\n",
       "        'dispositivos', 'conexion', 'veloz', 'iva', 'blackout', 'senal',\n",
       "        'señal']], dtype=object)"
      ]
     },
     "execution_count": 69,
     "metadata": {},
     "output_type": "execute_result"
    }
   ],
   "source": [
    "Producto"
   ]
  },
  {
   "cell_type": "code",
   "execution_count": 70,
   "metadata": {},
   "outputs": [],
   "source": [
    "#funcion para categorizar los datos\n",
    "\n",
    "def filtro(datos_a_filtrar,datos_filtro):\n",
    "    n1=len(datos_a_filtrar)\n",
    "    n2=len(datos_filtro)\n",
    "    \n",
    "    Filtro=[]\n",
    "    \n",
    "    for i in range(n1):\n",
    "        n11=len(datos_a_filtrar[i])\n",
    "        for k in range(n11):\n",
    "            for j in range(n2):\n",
    "            \n",
    "                if datos_a_filtrar[i][k]==datos_filtro[j,0]:\n",
    "                    Filtro.append(datos_a_filtrar[i])\n",
    "                    break\n",
    "    return Filtro\n",
    "            "
   ]
  },
  {
   "cell_type": "code",
   "execution_count": 71,
   "metadata": {},
   "outputs": [
    {
     "data": {
      "text/plain": [
       "0      [@FiscalizacionAN:, El, legislador, @VillaFern...\n",
       "1      [@FiscalizacionAN:, El, legislador, @VillaFern...\n",
       "2      [@FiscalizacionAN:, El, legislador, @VillaFern...\n",
       "3      [@FiscalizacionAN:, El, legislador, @VillaFern...\n",
       "4      [@FiscalizacionAN:, El, legislador, @VillaFern...\n",
       "                             ...                        \n",
       "220    [semana, todo, Flow, #KarolG, \\xf0\\x9f\\x8e\\xb6...\n",
       "221    [pierdas, nada!, Habla,, comparte, con\\xc3\\xa9...\n",
       "222    [cobrar, factura, chingan, chingan,, nos, deja...\n",
       "223    [De, cu\\xc3\\xa1nto, va, ser, descuento, factur...\n",
       "224    [cobrar, recibo, tel\\xc3\\xa9fono, si, buenos, ...\n",
       "Length: 225, dtype: object"
      ]
     },
     "execution_count": 71,
     "metadata": {},
     "output_type": "execute_result"
    }
   ],
   "source": [
    "F_atn_clnt=filtro(sin_art,atn_clnt.T)\n",
    "F_producto=filtro(sin_art,Producto.T)\n",
    "\n",
    "S1=pd.Series(F_atn_clnt)\n",
    "S2=pd.Series(F_producto)\n",
    "\n",
    "S1"
   ]
  },
  {
   "cell_type": "code",
   "execution_count": 72,
   "metadata": {},
   "outputs": [
    {
     "data": {
      "text/plain": [
       "0     [#Claro, obtene, 80%, descuento, real, tu, abo...\n",
       "1     [\\xc2\\xa1Vamos!, Ven, nosotros, empieza, vivir...\n",
       "2     [acept\\xc3\\xa9, plan, claro, porq, sali\\xc3\\xb...\n",
       "3     [#Falla, Moderada, internet, termin\\xc3\\xb3:, ...\n",
       "4     [buen\\xc3\\xadsima, cobertura, #JJOO2020, parte...\n",
       "                            ...                        \n",
       "64    [este, lio!??, #altice, 1.6mbs, data, celular,...\n",
       "65    [\\xc2\\xa1Vamos,, Andrea!, Ven, nosotros, empie...\n",
       "66    [todo, d\\xc3\\xada, sin, servicio, internet, ho...\n",
       "67    [todo, d\\xc3\\xada, sin, servicio, internet, ho...\n",
       "68    [mejor, cobertura, pa\\xc3\\xads, si, otros, \\xc...\n",
       "Length: 69, dtype: object"
      ]
     },
     "execution_count": 72,
     "metadata": {},
     "output_type": "execute_result"
    }
   ],
   "source": [
    "S2"
   ]
  },
  {
   "cell_type": "code",
   "execution_count": null,
   "metadata": {},
   "outputs": [],
   "source": []
  },
  {
   "cell_type": "code",
   "execution_count": 73,
   "metadata": {},
   "outputs": [],
   "source": [
    "#del mismo modo que se hizo con los filtros anteriores, creamos un archivo de palabras que pueden considerarse positivas\n",
    "#o negativas en un comentario t¿y aplicamos la funcion filtro\n",
    "Negativos=np.array(pd.read_csv(\"Negativos.csv\",header=None))\n",
    "Positivos=np.array(pd.read_csv(\"Positivos.csv\",header=None))\n"
   ]
  },
  {
   "cell_type": "code",
   "execution_count": 74,
   "metadata": {},
   "outputs": [],
   "source": [
    "#para atención al cliente\n",
    "F_negativos_atn_clnt=filtro(F_atn_clnt,Negativos)\n",
    "F_positivos_atn_clnt=filtro(F_atn_clnt,Positivos)\n",
    "F_positivos=filtro(sin_art,Positivos)\n",
    "F_negativos=filtro(sin_art,Negativos)"
   ]
  },
  {
   "cell_type": "code",
   "execution_count": 75,
   "metadata": {},
   "outputs": [],
   "source": [
    "#para producto\n",
    "F_negativos_prod=filtro(F_producto,Negativos)\n",
    "F_positivos_prod=filtro(F_producto,Positivos)\n"
   ]
  },
  {
   "cell_type": "code",
   "execution_count": 80,
   "metadata": {},
   "outputs": [
    {
     "data": {
      "text/plain": [
       "[['@wilsondjdiaz:',\n",
       "  'Los',\n",
       "  'datos',\n",
       "  'se\\\\xc3\\\\xb1al',\n",
       "  '@ClaroTeAyuda',\n",
       "  '@ClaroColombia',\n",
       "  'hoy',\n",
       "  'si',\n",
       "  'sido',\n",
       "  'fatal',\n",
       "  'servicios',\n",
       "  'tan',\n",
       "  'p\\\\xc3\\\\xa9simo',\n",
       "  '\\\\xf0\\\\x9f\\\\xa5\\\\xba\\\\xf0\\\\x9f\\\\x91\\\\x80',\n",
       "  '\\\\xc2\\\\xbfPorqu\\\\xc3\\\\xa9?',\n",
       "  \"#claro'\"],\n",
       " ['datos',\n",
       "  'se\\\\xc3\\\\xb1al',\n",
       "  '@ClaroTeAyuda',\n",
       "  '@ClaroColombia',\n",
       "  'hoy',\n",
       "  'si',\n",
       "  'sido',\n",
       "  'fatal',\n",
       "  'servicios',\n",
       "  'tan',\n",
       "  'p\\\\xc3\\\\xa9simo',\n",
       "  '\\\\xf0\\\\x9f\\\\xa5\\\\xba\\\\xf0\\\\x9f\\\\x91\\\\x80',\n",
       "  '\\\\xc2\\\\xbfPorqu\\\\xc3\\\\xa9?',\n",
       "  \"#claro'\"]]"
      ]
     },
     "execution_count": 80,
     "metadata": {},
     "output_type": "execute_result"
    }
   ],
   "source": [
    "#comentarios negativos sobre producto\n",
    "F_negativos_prod"
   ]
  },
  {
   "cell_type": "code",
   "execution_count": 60,
   "metadata": {},
   "outputs": [
    {
     "data": {
      "text/plain": [
       "[]"
      ]
     },
     "execution_count": 60,
     "metadata": {},
     "output_type": "execute_result"
    }
   ],
   "source": []
  },
  {
   "cell_type": "code",
   "execution_count": null,
   "metadata": {},
   "outputs": [],
   "source": []
  },
  {
   "cell_type": "code",
   "execution_count": null,
   "metadata": {},
   "outputs": [],
   "source": []
  }
 ],
 "metadata": {
  "kernelspec": {
   "display_name": "Python 3",
   "language": "python",
   "name": "python3"
  },
  "language_info": {
   "codemirror_mode": {
    "name": "ipython",
    "version": 3
   },
   "file_extension": ".py",
   "mimetype": "text/x-python",
   "name": "python",
   "nbconvert_exporter": "python",
   "pygments_lexer": "ipython3",
   "version": "3.8.5"
  }
 },
 "nbformat": 4,
 "nbformat_minor": 4
}
